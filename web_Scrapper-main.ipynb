{
 "cells": [
  {
   "cell_type": "code",
   "execution_count": 1,
   "id": "9be7295b",
   "metadata": {},
   "outputs": [],
   "source": [
    "import pandas as pd\n",
    "import numpy as np\n",
    "import requests\n",
    "from bs4 import BeautifulSoup\n",
    "from random import randint\n",
    "from time import sleep\n"
   ]
  },
  {
   "cell_type": "markdown",
   "id": "3e16c949",
   "metadata": {},
   "source": [
    "https://www.imdb.com/search/title/?title_type=feature&primary_language=hi&sort=num_votes,desc\n",
    " \n",
    "Tis is the link of the first page which contained only 50 movies and carefully observe the link of 2nd page starting 51 and ending with 100 movies.\n",
    "\n",
    "https://www.imdb.com/search/title/?title_type=feature&primary_language=hi&sort=num_votes,desc&start=51&ref_=adv_nxt\n",
    "\n",
    "The only difference is that '&start=51&ref_=adv_nxt' part is added in the link..\n",
    "\n",
    "similarly check the next link starting from 101.\n",
    "https://www.imdb.com/search/title/?title_type=feature&primary_language=hi&sort=num_votes,desc&start=101&ref_=adv_nxt\n",
    "\n",
    "So we have to construct a for loop\n"
   ]
  },
  {
   "cell_type": "code",
   "execution_count": 2,
   "id": "bf7f1c97",
   "metadata": {},
   "outputs": [],
   "source": [
    "start_no_page = np.arange(1,3000,50)"
   ]
  },
  {
   "cell_type": "code",
   "execution_count": 3,
   "id": "7192bcd7",
   "metadata": {},
   "outputs": [
    {
     "data": {
      "text/plain": [
       "array([   1,   51,  101,  151,  201,  251,  301,  351,  401,  451,  501,\n",
       "        551,  601,  651,  701,  751,  801,  851,  901,  951, 1001, 1051,\n",
       "       1101, 1151, 1201, 1251, 1301, 1351, 1401, 1451, 1501, 1551, 1601,\n",
       "       1651, 1701, 1751, 1801, 1851, 1901, 1951, 2001, 2051, 2101, 2151,\n",
       "       2201, 2251, 2301, 2351, 2401, 2451, 2501, 2551, 2601, 2651, 2701,\n",
       "       2751, 2801, 2851, 2901, 2951])"
      ]
     },
     "execution_count": 3,
     "metadata": {},
     "output_type": "execute_result"
    }
   ],
   "source": [
    "start_no_page"
   ]
  },
  {
   "cell_type": "code",
   "execution_count": 4,
   "id": "efe44074",
   "metadata": {},
   "outputs": [],
   "source": [
    "Title = []\n",
    "Date_of_Release = []\n",
    "Genre = []\n",
    "Cast = []\n",
    "Crew = []\n",
    "Plot_summary = []\n",
    "Plot_keywords = []\n",
    "ImDBRating = []\n",
    "Votes = []\n",
    "Reviews = []\n"
   ]
  },
  {
   "cell_type": "code",
   "execution_count": 5,
   "id": "5054802e",
   "metadata": {},
   "outputs": [],
   "source": [
    "for i in start_no_page:\n",
    "    page = requests.get(\"https://www.imdb.com/search/title/?title_type=feature&primary_language=hi&sort=num_votes,desc&start=\"+str(i)+\"&ref_=adv_nxt\")\n",
    "    \n",
    "    soup = BeautifulSoup(page.text, 'html.parser')\n",
    "    movie_data = soup.findAll('div', attrs = {'class': 'lister-item mode-advanced'})\n",
    "    sleep(randint(2,8))  \n",
    "    for val in movie_data:\n",
    "        movie_title = val.h3.a.text\n",
    "        Title.append(movie_title)\n",
    "        \n",
    "        year = val.h3.find('span',class_='lister-item-year text-muted unbold').text.replace('(','').replace(')','')\n",
    "        Date_of_Release.append(year)\n",
    "        \n",
    "        rate = val.find('div',class_='inline-block ratings-imdb-rating').text.replace('\\n','') \n",
    "        ImDBRating.append(rate)\n",
    "        \n",
    "        genre_of_the_movie= val.p.find('span',class_ = 'genre').text.replace(\"\\n\",'') if val.p.find('span',class_='genre') else \"****\"\n",
    "        Genre.append(genre_of_the_movie)\n",
    "        \n",
    "        vote = val.findAll('span',attrs={'name':'nv'})[0].text\n",
    "        Votes.append(vote)\n",
    "        \n",
    "        describe = val.findAll('p', class_ = 'text-muted')[1].text.replace('\\n','')\n",
    "        Plot_summary.append(describe)\n",
    "        \n",
    "        cast_crew = val.find('p',class_='').text.replace('\\n','').split('|')\n",
    "        Crew.append(cast_crew)"
   ]
  },
  {
   "cell_type": "code",
   "execution_count": 6,
   "id": "fa9412a0",
   "metadata": {},
   "outputs": [],
   "source": [
    "df_1 = pd.DataFrame({'Title':Title, 'Date_of_Release':Date_of_Release, 'Genre':Genre, 'Crew' :Crew,'Plot_summary' : Plot_summary,'ImDBRating':ImDBRating,'Votes':Votes,})"
   ]
  },
  {
   "cell_type": "code",
   "execution_count": 7,
   "id": "8dc6c7c7",
   "metadata": {},
   "outputs": [],
   "source": [
    "df_1.to_csv('All_bollywood_movies_ff22.csv')"
   ]
  },
  {
   "cell_type": "code",
   "execution_count": null,
   "id": "c5ba2803",
   "metadata": {},
   "outputs": [],
   "source": []
  },
  {
   "cell_type": "code",
   "execution_count": null,
   "id": "35b0a02c",
   "metadata": {},
   "outputs": [],
   "source": []
  },
  {
   "cell_type": "code",
   "execution_count": null,
   "id": "710961b3",
   "metadata": {},
   "outputs": [],
   "source": []
  }
 ],
 "metadata": {
  "kernelspec": {
   "display_name": "Python 3 (ipykernel)",
   "language": "python",
   "name": "python3"
  },
  "language_info": {
   "codemirror_mode": {
    "name": "ipython",
    "version": 3
   },
   "file_extension": ".py",
   "mimetype": "text/x-python",
   "name": "python",
   "nbconvert_exporter": "python",
   "pygments_lexer": "ipython3",
   "version": "3.7.11"
  }
 },
 "nbformat": 4,
 "nbformat_minor": 5
}
