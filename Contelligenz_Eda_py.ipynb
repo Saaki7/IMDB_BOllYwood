{
 "cells": [
  {
   "cell_type": "code",
   "execution_count": 1,
   "id": "8b6fd3ae",
   "metadata": {},
   "outputs": [],
   "source": [
    "import pandas as pd\n",
    "import numpy as np\n",
    "import matplotlib.pyplot as plt\n",
    "%matplotlib inline\n",
    "movie_df = pd.read_csv('All_bollywood_movies_ff22.csv')\n",
    "movie_df = movie_df.drop(['Unnamed: 0'],axis=1)"
   ]
  },
  {
   "cell_type": "code",
   "execution_count": 2,
   "id": "a4bc49e5",
   "metadata": {},
   "outputs": [
    {
     "data": {
      "text/plain": [
       "Title               object\n",
       "Date_of_Release     object\n",
       "Genre               object\n",
       "Crew                object\n",
       "Plot_summary        object\n",
       "ImDBRating         float64\n",
       "Votes               object\n",
       "dtype: object"
      ]
     },
     "execution_count": 2,
     "metadata": {},
     "output_type": "execute_result"
    }
   ],
   "source": [
    "movie_df.dtypes"
   ]
  },
  {
   "cell_type": "code",
   "execution_count": 5,
   "id": "4b3f94ce",
   "metadata": {},
   "outputs": [
    {
     "data": {
      "text/plain": [
       "array(['2009', '1999', '2007', ..., '1973', '1971', '1967'], dtype=object)"
      ]
     },
     "execution_count": 5,
     "metadata": {},
     "output_type": "execute_result"
    }
   ],
   "source": [
    "movie_df['Date_of_Release'].values"
   ]
  },
  {
   "cell_type": "markdown",
   "id": "7a3c2e0b",
   "metadata": {},
   "source": [
    "**from above DF we have seen that some of the values of Date are irregular with additional characters in their values.**"
   ]
  },
  {
   "cell_type": "markdown",
   "id": "2a80af80",
   "metadata": {},
   "source": [
    "**create a for loop for the processing**"
   ]
  },
  {
   "cell_type": "code",
   "execution_count": 6,
   "id": "e10bd43e",
   "metadata": {},
   "outputs": [
    {
     "name": "stderr",
     "output_type": "stream",
     "text": [
      "c:\\users\\hp\\anaconda3\\envs\\contelligence\\lib\\site-packages\\ipykernel_launcher.py:3: SettingWithCopyWarning: \n",
      "A value is trying to be set on a copy of a slice from a DataFrame\n",
      "\n",
      "See the caveats in the documentation: https://pandas.pydata.org/pandas-docs/stable/user_guide/indexing.html#returning-a-view-versus-a-copy\n",
      "  This is separate from the ipykernel package so we can avoid doing imports until\n"
     ]
    }
   ],
   "source": [
    "for i in range(3000):\n",
    "    if len(movie_df['Date_of_Release'][i]) > 4:\n",
    "        movie_df['Date_of_Release'][i] = movie_df['Date_of_Release'][i][-4:]\n",
    "    else:\n",
    "        movie_df['Date_of_Release'][i]"
   ]
  },
  {
   "cell_type": "markdown",
   "id": "e9834499",
   "metadata": {},
   "source": [
    "**Now change the type of Date into Integer so that we can calculate Age**"
   ]
  },
  {
   "cell_type": "code",
   "execution_count": 8,
   "id": "52729762",
   "metadata": {},
   "outputs": [],
   "source": [
    "movie_df['Date_of_Release']=movie_df['Date_of_Release'].astype(int)"
   ]
  },
  {
   "cell_type": "code",
   "execution_count": 9,
   "id": "27b7bbd6",
   "metadata": {},
   "outputs": [],
   "source": [
    "movie_df['Age_of_content'] = 2021 - movie_df['Date_of_Release']"
   ]
  },
  {
   "cell_type": "code",
   "execution_count": null,
   "id": "d35330db",
   "metadata": {},
   "outputs": [],
   "source": [
    "\n"
   ]
  },
  {
   "cell_type": "markdown",
   "id": "bc615e04",
   "metadata": {},
   "source": [
    "**I found that some of the records have \"Star\" instead of \"Stars\" in their crew column , which will be very problematic for the processing.**"
   ]
  },
  {
   "cell_type": "markdown",
   "id": "4f71ab17",
   "metadata": {},
   "source": [
    "I developed a for loop for replacing the values but I got huge errors from the code. So i did manually for the time being."
   ]
  },
  {
   "cell_type": "code",
   "execution_count": 10,
   "id": "f6f16d6b",
   "metadata": {},
   "outputs": [
    {
     "name": "stderr",
     "output_type": "stream",
     "text": [
      "c:\\users\\hp\\anaconda3\\envs\\contelligence\\lib\\site-packages\\ipykernel_launcher.py:1: SettingWithCopyWarning: \n",
      "A value is trying to be set on a copy of a slice from a DataFrame\n",
      "\n",
      "See the caveats in the documentation: https://pandas.pydata.org/pandas-docs/stable/user_guide/indexing.html#returning-a-view-versus-a-copy\n",
      "  \"\"\"Entry point for launching an IPython kernel.\n",
      "c:\\users\\hp\\anaconda3\\envs\\contelligence\\lib\\site-packages\\ipykernel_launcher.py:2: SettingWithCopyWarning: \n",
      "A value is trying to be set on a copy of a slice from a DataFrame\n",
      "\n",
      "See the caveats in the documentation: https://pandas.pydata.org/pandas-docs/stable/user_guide/indexing.html#returning-a-view-versus-a-copy\n",
      "  \n",
      "c:\\users\\hp\\anaconda3\\envs\\contelligence\\lib\\site-packages\\ipykernel_launcher.py:3: SettingWithCopyWarning: \n",
      "A value is trying to be set on a copy of a slice from a DataFrame\n",
      "\n",
      "See the caveats in the documentation: https://pandas.pydata.org/pandas-docs/stable/user_guide/indexing.html#returning-a-view-versus-a-copy\n",
      "  This is separate from the ipykernel package so we can avoid doing imports until\n"
     ]
    }
   ],
   "source": [
    "movie_df['Crew'][2518] = \"['                Stars:Iqbal']\"\n",
    "movie_df['Crew'][2146] = \"['    Director:Neville Shah', '     Stars:Gaurav Gupta']\"\n",
    "movie_df['Crew'][2887] = \"['    Director:Ezhil Vendan', '     Stars:Rajesh Jolly']\""
   ]
  },
  {
   "cell_type": "markdown",
   "id": "9f762ed4",
   "metadata": {},
   "source": [
    "*Lets copy the Data frame into another one for no permanent changes in the original dataframe*"
   ]
  },
  {
   "cell_type": "code",
   "execution_count": 11,
   "id": "2494c800",
   "metadata": {},
   "outputs": [],
   "source": [
    "movie_df1 = movie_df.copy()"
   ]
  },
  {
   "cell_type": "markdown",
   "id": "e6790e74",
   "metadata": {},
   "source": [
    "*Since __Stars:__ is a common word in all the crew records, I am splitting the column using (\"Stars:\") and developing two individual coulmns one with being Directors and other being actors*"
   ]
  },
  {
   "cell_type": "code",
   "execution_count": 13,
   "id": "2dd39893",
   "metadata": {},
   "outputs": [],
   "source": [
    "movie_df1['Crew'] = movie_df1['Crew'].str.split('Stars:')"
   ]
  },
  {
   "cell_type": "code",
   "execution_count": 14,
   "id": "ac01007e",
   "metadata": {},
   "outputs": [],
   "source": [
    "##construct two empty columns for directors and stars\n",
    "\n",
    "movie_df1['Crew_dir'] ='ra'\n",
    "movie_df1['Cast_stars'] = 'e'"
   ]
  },
  {
   "cell_type": "code",
   "execution_count": 15,
   "id": "584024e5",
   "metadata": {},
   "outputs": [
    {
     "name": "stderr",
     "output_type": "stream",
     "text": [
      "c:\\users\\hp\\anaconda3\\envs\\contelligence\\lib\\site-packages\\ipykernel_launcher.py:4: SettingWithCopyWarning: \n",
      "A value is trying to be set on a copy of a slice from a DataFrame\n",
      "\n",
      "See the caveats in the documentation: https://pandas.pydata.org/pandas-docs/stable/user_guide/indexing.html#returning-a-view-versus-a-copy\n",
      "  after removing the cwd from sys.path.\n",
      "c:\\users\\hp\\anaconda3\\envs\\contelligence\\lib\\site-packages\\ipykernel_launcher.py:5: SettingWithCopyWarning: \n",
      "A value is trying to be set on a copy of a slice from a DataFrame\n",
      "\n",
      "See the caveats in the documentation: https://pandas.pydata.org/pandas-docs/stable/user_guide/indexing.html#returning-a-view-versus-a-copy\n",
      "  \"\"\"\n"
     ]
    }
   ],
   "source": [
    "\n",
    "##Now fill the above columns by splitting the crew column into stars and directors\n",
    "\n",
    "for i in range(3000):\n",
    "    movie_df1['Cast_stars'][i] = movie_df1['Crew'][i][1].rstrip(']').rstrip(\"'\") if movie_df1['Crew'][i][1] else '*****'\n",
    "    movie_df1['Crew_dir'][i] = movie_df1['Crew'][i][0].lstrip('[').lstrip(\"'    Director:\").rstrip(\"', '     \") if movie_df1['Crew'][i][0] else \"****\""
   ]
  },
  {
   "cell_type": "code",
   "execution_count": null,
   "id": "09691bc7",
   "metadata": {},
   "outputs": [],
   "source": []
  },
  {
   "cell_type": "markdown",
   "id": "443f8f8a",
   "metadata": {},
   "source": [
    "**So Final DataFrame with clean data(Kind of) for 3000 movies**"
   ]
  },
  {
   "cell_type": "code",
   "execution_count": 18,
   "id": "a2c14c67",
   "metadata": {},
   "outputs": [
    {
     "data": {
      "text/html": [
       "<div>\n",
       "<style scoped>\n",
       "    .dataframe tbody tr th:only-of-type {\n",
       "        vertical-align: middle;\n",
       "    }\n",
       "\n",
       "    .dataframe tbody tr th {\n",
       "        vertical-align: top;\n",
       "    }\n",
       "\n",
       "    .dataframe thead th {\n",
       "        text-align: right;\n",
       "    }\n",
       "</style>\n",
       "<table border=\"1\" class=\"dataframe\">\n",
       "  <thead>\n",
       "    <tr style=\"text-align: right;\">\n",
       "      <th></th>\n",
       "      <th>Title</th>\n",
       "      <th>Date_of_Release</th>\n",
       "      <th>Genre</th>\n",
       "      <th>Crew</th>\n",
       "      <th>Plot_summary</th>\n",
       "      <th>ImDBRating</th>\n",
       "      <th>Votes</th>\n",
       "      <th>Age_of_content</th>\n",
       "      <th>Crew_dir</th>\n",
       "      <th>Cast_stars</th>\n",
       "    </tr>\n",
       "  </thead>\n",
       "  <tbody>\n",
       "    <tr>\n",
       "      <th>0</th>\n",
       "      <td>3 Idiots</td>\n",
       "      <td>2009</td>\n",
       "      <td>Comedy, Drama</td>\n",
       "      <td>[['    Director:Rajkumar Hirani', '     , Aami...</td>\n",
       "      <td>Two friends are searching for their long lost ...</td>\n",
       "      <td>8.4</td>\n",
       "      <td>366,038</td>\n",
       "      <td>12</td>\n",
       "      <td>Rajkumar Hirani</td>\n",
       "      <td>Aamir Khan, Madhavan, Mona Singh, Sharman Joshi</td>\n",
       "    </tr>\n",
       "    <tr>\n",
       "      <th>1</th>\n",
       "      <td>Cruel Intentions</td>\n",
       "      <td>1999</td>\n",
       "      <td>Drama, Romance</td>\n",
       "      <td>[['    Director:Roger Kumble', '     , Sarah M...</td>\n",
       "      <td>Two vicious step-siblings of an elite Manhatta...</td>\n",
       "      <td>6.8</td>\n",
       "      <td>184,749</td>\n",
       "      <td>22</td>\n",
       "      <td>Roger Kumble</td>\n",
       "      <td>Sarah Michelle Gellar, Ryan Phillippe, Reese W...</td>\n",
       "    </tr>\n",
       "    <tr>\n",
       "      <th>2</th>\n",
       "      <td>Taare Zameen Par</td>\n",
       "      <td>2007</td>\n",
       "      <td>Drama, Family</td>\n",
       "      <td>[['    Directors:Aamir Khan, Amole Gupte', '  ...</td>\n",
       "      <td>An eight-year-old boy is thought to be a lazy ...</td>\n",
       "      <td>8.4</td>\n",
       "      <td>179,838</td>\n",
       "      <td>14</td>\n",
       "      <td>s:Aamir Khan, Amole Gupte</td>\n",
       "      <td>Darsheel Safary, Aamir Khan, Tisca Chopra, Vip...</td>\n",
       "    </tr>\n",
       "    <tr>\n",
       "      <th>3</th>\n",
       "      <td>PK</td>\n",
       "      <td>2014</td>\n",
       "      <td>Comedy, Drama, Musical</td>\n",
       "      <td>[['    Director:Rajkumar Hirani', '     , Aami...</td>\n",
       "      <td>An alien on Earth loses the only device he can...</td>\n",
       "      <td>8.1</td>\n",
       "      <td>171,776</td>\n",
       "      <td>7</td>\n",
       "      <td>Rajkumar Hirani</td>\n",
       "      <td>Aamir Khan, Anushka Sharma, Sanjay Dutt, Boman...</td>\n",
       "    </tr>\n",
       "    <tr>\n",
       "      <th>4</th>\n",
       "      <td>Radhe</td>\n",
       "      <td>2021</td>\n",
       "      <td>Action, Crime, Thriller</td>\n",
       "      <td>[['    Director:Prabhu Deva', '     , Salman K...</td>\n",
       "      <td>After taking the dreaded gangster Gani Bhai, A...</td>\n",
       "      <td>1.8</td>\n",
       "      <td>171,349</td>\n",
       "      <td>0</td>\n",
       "      <td>Prabhu Deva</td>\n",
       "      <td>Salman Khan, Disha Patani, Randeep Hooda, Jack...</td>\n",
       "    </tr>\n",
       "    <tr>\n",
       "      <th>...</th>\n",
       "      <td>...</td>\n",
       "      <td>...</td>\n",
       "      <td>...</td>\n",
       "      <td>...</td>\n",
       "      <td>...</td>\n",
       "      <td>...</td>\n",
       "      <td>...</td>\n",
       "      <td>...</td>\n",
       "      <td>...</td>\n",
       "      <td>...</td>\n",
       "    </tr>\n",
       "    <tr>\n",
       "      <th>2995</th>\n",
       "      <td>Waqt Ki Awaz</td>\n",
       "      <td>1988</td>\n",
       "      <td>Action, Crime, Drama</td>\n",
       "      <td>[['    Director:K. Bapaiah', '     , Vikas Ana...</td>\n",
       "      <td>Wealthy Lata I. Prasad refuses to obey her wid...</td>\n",
       "      <td>6.3</td>\n",
       "      <td>105</td>\n",
       "      <td>33</td>\n",
       "      <td>K. Bapaiah</td>\n",
       "      <td>Vikas Anand, Asrani, Mithun Chakraborty, Moush...</td>\n",
       "    </tr>\n",
       "    <tr>\n",
       "      <th>2996</th>\n",
       "      <td>Ilzaam</td>\n",
       "      <td>1986</td>\n",
       "      <td>Drama, Family</td>\n",
       "      <td>[['    Director:Shibu Mitra', '     , Shashi K...</td>\n",
       "      <td>Ajay is a street dancer and while people are w...</td>\n",
       "      <td>5.9</td>\n",
       "      <td>105</td>\n",
       "      <td>35</td>\n",
       "      <td>Shibu Mitra</td>\n",
       "      <td>Shashi Kapoor, Shatrughan Sinha, Raj Kiran, An...</td>\n",
       "    </tr>\n",
       "    <tr>\n",
       "      <th>2997</th>\n",
       "      <td>Jheel Ke Us Paar</td>\n",
       "      <td>1973</td>\n",
       "      <td>Drama, Romance</td>\n",
       "      <td>[['    Director:Bhappi Sonie', '     , Dharmen...</td>\n",
       "      <td>Kulwant Rai's horse carriage runs over a child...</td>\n",
       "      <td>7.2</td>\n",
       "      <td>105</td>\n",
       "      <td>48</td>\n",
       "      <td>Bhappi Sonie</td>\n",
       "      <td>Dharmendra, Mumtaz, Prem Chopra, Mehmood Jr.</td>\n",
       "    </tr>\n",
       "    <tr>\n",
       "      <th>2998</th>\n",
       "      <td>Ashad Ka Ek Din</td>\n",
       "      <td>1971</td>\n",
       "      <td>Biography, Drama</td>\n",
       "      <td>[['    Director:Mani Kaul', '     , Aruna Iran...</td>\n",
       "      <td>Aashad Ka Ek Din is an adaptation of the play ...</td>\n",
       "      <td>7.4</td>\n",
       "      <td>105</td>\n",
       "      <td>50</td>\n",
       "      <td>Mani Kaul</td>\n",
       "      <td>Aruna Irani, Arun Khopkar, Rekha Sabnis, Om Sh...</td>\n",
       "    </tr>\n",
       "    <tr>\n",
       "      <th>2999</th>\n",
       "      <td>Around the World</td>\n",
       "      <td>1967</td>\n",
       "      <td>Comedy, Romance</td>\n",
       "      <td>[['    Director:Pachhi', '     , Raj Kapoor, R...</td>\n",
       "      <td>Raj Singh is the nephew and heir apparent of m...</td>\n",
       "      <td>6.2</td>\n",
       "      <td>105</td>\n",
       "      <td>54</td>\n",
       "      <td>Pachhi</td>\n",
       "      <td>Raj Kapoor, Rajshree, Ameeta, Mehmood</td>\n",
       "    </tr>\n",
       "  </tbody>\n",
       "</table>\n",
       "<p>3000 rows × 10 columns</p>\n",
       "</div>"
      ],
      "text/plain": [
       "                 Title  Date_of_Release                                Genre  \\\n",
       "0             3 Idiots             2009            Comedy, Drama               \n",
       "1     Cruel Intentions             1999           Drama, Romance               \n",
       "2     Taare Zameen Par             2007            Drama, Family               \n",
       "3                   PK             2014   Comedy, Drama, Musical               \n",
       "4                Radhe             2021  Action, Crime, Thriller               \n",
       "...                ...              ...                                  ...   \n",
       "2995      Waqt Ki Awaz             1988     Action, Crime, Drama               \n",
       "2996            Ilzaam             1986            Drama, Family               \n",
       "2997  Jheel Ke Us Paar             1973           Drama, Romance               \n",
       "2998   Ashad Ka Ek Din             1971         Biography, Drama               \n",
       "2999  Around the World             1967          Comedy, Romance               \n",
       "\n",
       "                                                   Crew  \\\n",
       "0     [['    Director:Rajkumar Hirani', '     , Aami...   \n",
       "1     [['    Director:Roger Kumble', '     , Sarah M...   \n",
       "2     [['    Directors:Aamir Khan, Amole Gupte', '  ...   \n",
       "3     [['    Director:Rajkumar Hirani', '     , Aami...   \n",
       "4     [['    Director:Prabhu Deva', '     , Salman K...   \n",
       "...                                                 ...   \n",
       "2995  [['    Director:K. Bapaiah', '     , Vikas Ana...   \n",
       "2996  [['    Director:Shibu Mitra', '     , Shashi K...   \n",
       "2997  [['    Director:Bhappi Sonie', '     , Dharmen...   \n",
       "2998  [['    Director:Mani Kaul', '     , Aruna Iran...   \n",
       "2999  [['    Director:Pachhi', '     , Raj Kapoor, R...   \n",
       "\n",
       "                                           Plot_summary  ImDBRating    Votes  \\\n",
       "0     Two friends are searching for their long lost ...         8.4  366,038   \n",
       "1     Two vicious step-siblings of an elite Manhatta...         6.8  184,749   \n",
       "2     An eight-year-old boy is thought to be a lazy ...         8.4  179,838   \n",
       "3     An alien on Earth loses the only device he can...         8.1  171,776   \n",
       "4     After taking the dreaded gangster Gani Bhai, A...         1.8  171,349   \n",
       "...                                                 ...         ...      ...   \n",
       "2995  Wealthy Lata I. Prasad refuses to obey her wid...         6.3      105   \n",
       "2996  Ajay is a street dancer and while people are w...         5.9      105   \n",
       "2997  Kulwant Rai's horse carriage runs over a child...         7.2      105   \n",
       "2998  Aashad Ka Ek Din is an adaptation of the play ...         7.4      105   \n",
       "2999  Raj Singh is the nephew and heir apparent of m...         6.2      105   \n",
       "\n",
       "      Age_of_content                   Crew_dir  \\\n",
       "0                 12            Rajkumar Hirani   \n",
       "1                 22               Roger Kumble   \n",
       "2                 14  s:Aamir Khan, Amole Gupte   \n",
       "3                  7            Rajkumar Hirani   \n",
       "4                  0                Prabhu Deva   \n",
       "...              ...                        ...   \n",
       "2995              33                 K. Bapaiah   \n",
       "2996              35                Shibu Mitra   \n",
       "2997              48               Bhappi Sonie   \n",
       "2998              50                  Mani Kaul   \n",
       "2999              54                     Pachhi   \n",
       "\n",
       "                                             Cast_stars  \n",
       "0       Aamir Khan, Madhavan, Mona Singh, Sharman Joshi  \n",
       "1     Sarah Michelle Gellar, Ryan Phillippe, Reese W...  \n",
       "2     Darsheel Safary, Aamir Khan, Tisca Chopra, Vip...  \n",
       "3     Aamir Khan, Anushka Sharma, Sanjay Dutt, Boman...  \n",
       "4     Salman Khan, Disha Patani, Randeep Hooda, Jack...  \n",
       "...                                                 ...  \n",
       "2995  Vikas Anand, Asrani, Mithun Chakraborty, Moush...  \n",
       "2996  Shashi Kapoor, Shatrughan Sinha, Raj Kiran, An...  \n",
       "2997       Dharmendra, Mumtaz, Prem Chopra, Mehmood Jr.  \n",
       "2998  Aruna Irani, Arun Khopkar, Rekha Sabnis, Om Sh...  \n",
       "2999              Raj Kapoor, Rajshree, Ameeta, Mehmood  \n",
       "\n",
       "[3000 rows x 10 columns]"
      ]
     },
     "execution_count": 18,
     "metadata": {},
     "output_type": "execute_result"
    }
   ],
   "source": [
    "movie_df1"
   ]
  },
  {
   "cell_type": "markdown",
   "id": "3976c29e",
   "metadata": {},
   "source": [
    "_Lets delete the original crew column consisting both stars and directors_"
   ]
  },
  {
   "cell_type": "code",
   "execution_count": 19,
   "id": "72fd8067",
   "metadata": {},
   "outputs": [],
   "source": [
    "movie_df1.drop('Crew',axis=1,inplace=True)"
   ]
  },
  {
   "cell_type": "code",
   "execution_count": 20,
   "id": "14fe3962",
   "metadata": {},
   "outputs": [
    {
     "data": {
      "text/html": [
       "<div>\n",
       "<style scoped>\n",
       "    .dataframe tbody tr th:only-of-type {\n",
       "        vertical-align: middle;\n",
       "    }\n",
       "\n",
       "    .dataframe tbody tr th {\n",
       "        vertical-align: top;\n",
       "    }\n",
       "\n",
       "    .dataframe thead th {\n",
       "        text-align: right;\n",
       "    }\n",
       "</style>\n",
       "<table border=\"1\" class=\"dataframe\">\n",
       "  <thead>\n",
       "    <tr style=\"text-align: right;\">\n",
       "      <th></th>\n",
       "      <th>Title</th>\n",
       "      <th>Date_of_Release</th>\n",
       "      <th>Genre</th>\n",
       "      <th>Plot_summary</th>\n",
       "      <th>ImDBRating</th>\n",
       "      <th>Votes</th>\n",
       "      <th>Age_of_content</th>\n",
       "      <th>Crew_dir</th>\n",
       "      <th>Cast_stars</th>\n",
       "    </tr>\n",
       "  </thead>\n",
       "  <tbody>\n",
       "    <tr>\n",
       "      <th>0</th>\n",
       "      <td>3 Idiots</td>\n",
       "      <td>2009</td>\n",
       "      <td>Comedy, Drama</td>\n",
       "      <td>Two friends are searching for their long lost ...</td>\n",
       "      <td>8.4</td>\n",
       "      <td>366,038</td>\n",
       "      <td>12</td>\n",
       "      <td>Rajkumar Hirani</td>\n",
       "      <td>Aamir Khan, Madhavan, Mona Singh, Sharman Joshi</td>\n",
       "    </tr>\n",
       "    <tr>\n",
       "      <th>1</th>\n",
       "      <td>Cruel Intentions</td>\n",
       "      <td>1999</td>\n",
       "      <td>Drama, Romance</td>\n",
       "      <td>Two vicious step-siblings of an elite Manhatta...</td>\n",
       "      <td>6.8</td>\n",
       "      <td>184,749</td>\n",
       "      <td>22</td>\n",
       "      <td>Roger Kumble</td>\n",
       "      <td>Sarah Michelle Gellar, Ryan Phillippe, Reese W...</td>\n",
       "    </tr>\n",
       "    <tr>\n",
       "      <th>2</th>\n",
       "      <td>Taare Zameen Par</td>\n",
       "      <td>2007</td>\n",
       "      <td>Drama, Family</td>\n",
       "      <td>An eight-year-old boy is thought to be a lazy ...</td>\n",
       "      <td>8.4</td>\n",
       "      <td>179,838</td>\n",
       "      <td>14</td>\n",
       "      <td>s:Aamir Khan, Amole Gupte</td>\n",
       "      <td>Darsheel Safary, Aamir Khan, Tisca Chopra, Vip...</td>\n",
       "    </tr>\n",
       "    <tr>\n",
       "      <th>3</th>\n",
       "      <td>PK</td>\n",
       "      <td>2014</td>\n",
       "      <td>Comedy, Drama, Musical</td>\n",
       "      <td>An alien on Earth loses the only device he can...</td>\n",
       "      <td>8.1</td>\n",
       "      <td>171,776</td>\n",
       "      <td>7</td>\n",
       "      <td>Rajkumar Hirani</td>\n",
       "      <td>Aamir Khan, Anushka Sharma, Sanjay Dutt, Boman...</td>\n",
       "    </tr>\n",
       "    <tr>\n",
       "      <th>4</th>\n",
       "      <td>Radhe</td>\n",
       "      <td>2021</td>\n",
       "      <td>Action, Crime, Thriller</td>\n",
       "      <td>After taking the dreaded gangster Gani Bhai, A...</td>\n",
       "      <td>1.8</td>\n",
       "      <td>171,349</td>\n",
       "      <td>0</td>\n",
       "      <td>Prabhu Deva</td>\n",
       "      <td>Salman Khan, Disha Patani, Randeep Hooda, Jack...</td>\n",
       "    </tr>\n",
       "    <tr>\n",
       "      <th>...</th>\n",
       "      <td>...</td>\n",
       "      <td>...</td>\n",
       "      <td>...</td>\n",
       "      <td>...</td>\n",
       "      <td>...</td>\n",
       "      <td>...</td>\n",
       "      <td>...</td>\n",
       "      <td>...</td>\n",
       "      <td>...</td>\n",
       "    </tr>\n",
       "    <tr>\n",
       "      <th>2995</th>\n",
       "      <td>Waqt Ki Awaz</td>\n",
       "      <td>1988</td>\n",
       "      <td>Action, Crime, Drama</td>\n",
       "      <td>Wealthy Lata I. Prasad refuses to obey her wid...</td>\n",
       "      <td>6.3</td>\n",
       "      <td>105</td>\n",
       "      <td>33</td>\n",
       "      <td>K. Bapaiah</td>\n",
       "      <td>Vikas Anand, Asrani, Mithun Chakraborty, Moush...</td>\n",
       "    </tr>\n",
       "    <tr>\n",
       "      <th>2996</th>\n",
       "      <td>Ilzaam</td>\n",
       "      <td>1986</td>\n",
       "      <td>Drama, Family</td>\n",
       "      <td>Ajay is a street dancer and while people are w...</td>\n",
       "      <td>5.9</td>\n",
       "      <td>105</td>\n",
       "      <td>35</td>\n",
       "      <td>Shibu Mitra</td>\n",
       "      <td>Shashi Kapoor, Shatrughan Sinha, Raj Kiran, An...</td>\n",
       "    </tr>\n",
       "    <tr>\n",
       "      <th>2997</th>\n",
       "      <td>Jheel Ke Us Paar</td>\n",
       "      <td>1973</td>\n",
       "      <td>Drama, Romance</td>\n",
       "      <td>Kulwant Rai's horse carriage runs over a child...</td>\n",
       "      <td>7.2</td>\n",
       "      <td>105</td>\n",
       "      <td>48</td>\n",
       "      <td>Bhappi Sonie</td>\n",
       "      <td>Dharmendra, Mumtaz, Prem Chopra, Mehmood Jr.</td>\n",
       "    </tr>\n",
       "    <tr>\n",
       "      <th>2998</th>\n",
       "      <td>Ashad Ka Ek Din</td>\n",
       "      <td>1971</td>\n",
       "      <td>Biography, Drama</td>\n",
       "      <td>Aashad Ka Ek Din is an adaptation of the play ...</td>\n",
       "      <td>7.4</td>\n",
       "      <td>105</td>\n",
       "      <td>50</td>\n",
       "      <td>Mani Kaul</td>\n",
       "      <td>Aruna Irani, Arun Khopkar, Rekha Sabnis, Om Sh...</td>\n",
       "    </tr>\n",
       "    <tr>\n",
       "      <th>2999</th>\n",
       "      <td>Around the World</td>\n",
       "      <td>1967</td>\n",
       "      <td>Comedy, Romance</td>\n",
       "      <td>Raj Singh is the nephew and heir apparent of m...</td>\n",
       "      <td>6.2</td>\n",
       "      <td>105</td>\n",
       "      <td>54</td>\n",
       "      <td>Pachhi</td>\n",
       "      <td>Raj Kapoor, Rajshree, Ameeta, Mehmood</td>\n",
       "    </tr>\n",
       "  </tbody>\n",
       "</table>\n",
       "<p>3000 rows × 9 columns</p>\n",
       "</div>"
      ],
      "text/plain": [
       "                 Title  Date_of_Release                                Genre  \\\n",
       "0             3 Idiots             2009            Comedy, Drama               \n",
       "1     Cruel Intentions             1999           Drama, Romance               \n",
       "2     Taare Zameen Par             2007            Drama, Family               \n",
       "3                   PK             2014   Comedy, Drama, Musical               \n",
       "4                Radhe             2021  Action, Crime, Thriller               \n",
       "...                ...              ...                                  ...   \n",
       "2995      Waqt Ki Awaz             1988     Action, Crime, Drama               \n",
       "2996            Ilzaam             1986            Drama, Family               \n",
       "2997  Jheel Ke Us Paar             1973           Drama, Romance               \n",
       "2998   Ashad Ka Ek Din             1971         Biography, Drama               \n",
       "2999  Around the World             1967          Comedy, Romance               \n",
       "\n",
       "                                           Plot_summary  ImDBRating    Votes  \\\n",
       "0     Two friends are searching for their long lost ...         8.4  366,038   \n",
       "1     Two vicious step-siblings of an elite Manhatta...         6.8  184,749   \n",
       "2     An eight-year-old boy is thought to be a lazy ...         8.4  179,838   \n",
       "3     An alien on Earth loses the only device he can...         8.1  171,776   \n",
       "4     After taking the dreaded gangster Gani Bhai, A...         1.8  171,349   \n",
       "...                                                 ...         ...      ...   \n",
       "2995  Wealthy Lata I. Prasad refuses to obey her wid...         6.3      105   \n",
       "2996  Ajay is a street dancer and while people are w...         5.9      105   \n",
       "2997  Kulwant Rai's horse carriage runs over a child...         7.2      105   \n",
       "2998  Aashad Ka Ek Din is an adaptation of the play ...         7.4      105   \n",
       "2999  Raj Singh is the nephew and heir apparent of m...         6.2      105   \n",
       "\n",
       "      Age_of_content                   Crew_dir  \\\n",
       "0                 12            Rajkumar Hirani   \n",
       "1                 22               Roger Kumble   \n",
       "2                 14  s:Aamir Khan, Amole Gupte   \n",
       "3                  7            Rajkumar Hirani   \n",
       "4                  0                Prabhu Deva   \n",
       "...              ...                        ...   \n",
       "2995              33                 K. Bapaiah   \n",
       "2996              35                Shibu Mitra   \n",
       "2997              48               Bhappi Sonie   \n",
       "2998              50                  Mani Kaul   \n",
       "2999              54                     Pachhi   \n",
       "\n",
       "                                             Cast_stars  \n",
       "0       Aamir Khan, Madhavan, Mona Singh, Sharman Joshi  \n",
       "1     Sarah Michelle Gellar, Ryan Phillippe, Reese W...  \n",
       "2     Darsheel Safary, Aamir Khan, Tisca Chopra, Vip...  \n",
       "3     Aamir Khan, Anushka Sharma, Sanjay Dutt, Boman...  \n",
       "4     Salman Khan, Disha Patani, Randeep Hooda, Jack...  \n",
       "...                                                 ...  \n",
       "2995  Vikas Anand, Asrani, Mithun Chakraborty, Moush...  \n",
       "2996  Shashi Kapoor, Shatrughan Sinha, Raj Kiran, An...  \n",
       "2997       Dharmendra, Mumtaz, Prem Chopra, Mehmood Jr.  \n",
       "2998  Aruna Irani, Arun Khopkar, Rekha Sabnis, Om Sh...  \n",
       "2999              Raj Kapoor, Rajshree, Ameeta, Mehmood  \n",
       "\n",
       "[3000 rows x 9 columns]"
      ]
     },
     "execution_count": 20,
     "metadata": {},
     "output_type": "execute_result"
    }
   ],
   "source": [
    "movie_df1"
   ]
  },
  {
   "cell_type": "markdown",
   "id": "a586fdb1",
   "metadata": {},
   "source": [
    "*Lets store it as a .csv for future purpose*"
   ]
  },
  {
   "cell_type": "code",
   "execution_count": 22,
   "id": "d865ba55",
   "metadata": {},
   "outputs": [],
   "source": [
    "movie_df1.to_csv(\"Imdb_3000_hindimovieslist.csv\",index=False)"
   ]
  },
  {
   "cell_type": "markdown",
   "id": "827c56f0",
   "metadata": {},
   "source": [
    "**Lets prepare a list of Keywords by removing stopwords in each summary**"
   ]
  },
  {
   "cell_type": "code",
   "execution_count": 28,
   "id": "3e6581c3",
   "metadata": {},
   "outputs": [],
   "source": [
    "import nltk\n",
    "from nltk.corpus import stopwords"
   ]
  },
  {
   "cell_type": "code",
   "execution_count": 37,
   "id": "b93fd78d",
   "metadata": {},
   "outputs": [],
   "source": [
    "stop_words = set(stopwords.words('english'))"
   ]
  },
  {
   "cell_type": "code",
   "execution_count": 40,
   "id": "96501763",
   "metadata": {},
   "outputs": [],
   "source": [
    "movie_df1[\"Plot_Keywords\"] = 'hi'"
   ]
  },
  {
   "cell_type": "code",
   "execution_count": 41,
   "id": "748d8b53",
   "metadata": {},
   "outputs": [
    {
     "name": "stderr",
     "output_type": "stream",
     "text": [
      "c:\\users\\hp\\anaconda3\\envs\\contelligence\\lib\\site-packages\\ipykernel_launcher.py:2: SettingWithCopyWarning: \n",
      "A value is trying to be set on a copy of a slice from a DataFrame\n",
      "\n",
      "See the caveats in the documentation: https://pandas.pydata.org/pandas-docs/stable/user_guide/indexing.html#returning-a-view-versus-a-copy\n",
      "  \n"
     ]
    }
   ],
   "source": [
    "for i in range(3000):\n",
    "    movie_df1['Plot_Keywords'][i] =[x for x in movie_df1['Plot_summary'][i].lower().split() if x not in stop_words]"
   ]
  },
  {
   "cell_type": "code",
   "execution_count": 42,
   "id": "d481110b",
   "metadata": {},
   "outputs": [
    {
     "data": {
      "text/plain": [
       "0       [two, friends, searching, long, lost, companio...\n",
       "1       [two, vicious, step-siblings, elite, manhattan...\n",
       "2       [eight-year-old, boy, thought, lazy, trouble-m...\n",
       "3       [alien, earth, loses, device, use, communicate...\n",
       "4       [taking, dreaded, gangster, gani, bhai,, acp, ...\n",
       "                              ...                        \n",
       "2995    [wealthy, lata, i., prasad, refuses, obey, wid...\n",
       "2996    [ajay, street, dancer, people, watching, dance...\n",
       "2997    [kulwant, rai's, horse, carriage, runs, child,...\n",
       "2998    [aashad, ka, ek, din, adaptation, play, based,...\n",
       "2999    [raj, singh, nephew, heir, apparent, multi-mil...\n",
       "Name: Plot_Keywords, Length: 3000, dtype: object"
      ]
     },
     "execution_count": 42,
     "metadata": {},
     "output_type": "execute_result"
    }
   ],
   "source": [
    "movie_df1['Plot_Keywords']"
   ]
  },
  {
   "cell_type": "code",
   "execution_count": 43,
   "id": "e47ac55c",
   "metadata": {},
   "outputs": [
    {
     "data": {
      "text/html": [
       "<div>\n",
       "<style scoped>\n",
       "    .dataframe tbody tr th:only-of-type {\n",
       "        vertical-align: middle;\n",
       "    }\n",
       "\n",
       "    .dataframe tbody tr th {\n",
       "        vertical-align: top;\n",
       "    }\n",
       "\n",
       "    .dataframe thead th {\n",
       "        text-align: right;\n",
       "    }\n",
       "</style>\n",
       "<table border=\"1\" class=\"dataframe\">\n",
       "  <thead>\n",
       "    <tr style=\"text-align: right;\">\n",
       "      <th></th>\n",
       "      <th>Title</th>\n",
       "      <th>Date_of_Release</th>\n",
       "      <th>Genre</th>\n",
       "      <th>Plot_summary</th>\n",
       "      <th>ImDBRating</th>\n",
       "      <th>Votes</th>\n",
       "      <th>Age_of_content</th>\n",
       "      <th>Crew_dir</th>\n",
       "      <th>Cast_stars</th>\n",
       "      <th>Plot_Keywords</th>\n",
       "    </tr>\n",
       "  </thead>\n",
       "  <tbody>\n",
       "    <tr>\n",
       "      <th>0</th>\n",
       "      <td>3 Idiots</td>\n",
       "      <td>2009</td>\n",
       "      <td>Comedy, Drama</td>\n",
       "      <td>Two friends are searching for their long lost ...</td>\n",
       "      <td>8.4</td>\n",
       "      <td>366,038</td>\n",
       "      <td>12</td>\n",
       "      <td>Rajkumar Hirani</td>\n",
       "      <td>Aamir Khan, Madhavan, Mona Singh, Sharman Joshi</td>\n",
       "      <td>[two, friends, searching, long, lost, companio...</td>\n",
       "    </tr>\n",
       "    <tr>\n",
       "      <th>1</th>\n",
       "      <td>Cruel Intentions</td>\n",
       "      <td>1999</td>\n",
       "      <td>Drama, Romance</td>\n",
       "      <td>Two vicious step-siblings of an elite Manhatta...</td>\n",
       "      <td>6.8</td>\n",
       "      <td>184,749</td>\n",
       "      <td>22</td>\n",
       "      <td>Roger Kumble</td>\n",
       "      <td>Sarah Michelle Gellar, Ryan Phillippe, Reese W...</td>\n",
       "      <td>[two, vicious, step-siblings, elite, manhattan...</td>\n",
       "    </tr>\n",
       "    <tr>\n",
       "      <th>2</th>\n",
       "      <td>Taare Zameen Par</td>\n",
       "      <td>2007</td>\n",
       "      <td>Drama, Family</td>\n",
       "      <td>An eight-year-old boy is thought to be a lazy ...</td>\n",
       "      <td>8.4</td>\n",
       "      <td>179,838</td>\n",
       "      <td>14</td>\n",
       "      <td>s:Aamir Khan, Amole Gupte</td>\n",
       "      <td>Darsheel Safary, Aamir Khan, Tisca Chopra, Vip...</td>\n",
       "      <td>[eight-year-old, boy, thought, lazy, trouble-m...</td>\n",
       "    </tr>\n",
       "    <tr>\n",
       "      <th>3</th>\n",
       "      <td>PK</td>\n",
       "      <td>2014</td>\n",
       "      <td>Comedy, Drama, Musical</td>\n",
       "      <td>An alien on Earth loses the only device he can...</td>\n",
       "      <td>8.1</td>\n",
       "      <td>171,776</td>\n",
       "      <td>7</td>\n",
       "      <td>Rajkumar Hirani</td>\n",
       "      <td>Aamir Khan, Anushka Sharma, Sanjay Dutt, Boman...</td>\n",
       "      <td>[alien, earth, loses, device, use, communicate...</td>\n",
       "    </tr>\n",
       "    <tr>\n",
       "      <th>4</th>\n",
       "      <td>Radhe</td>\n",
       "      <td>2021</td>\n",
       "      <td>Action, Crime, Thriller</td>\n",
       "      <td>After taking the dreaded gangster Gani Bhai, A...</td>\n",
       "      <td>1.8</td>\n",
       "      <td>171,349</td>\n",
       "      <td>0</td>\n",
       "      <td>Prabhu Deva</td>\n",
       "      <td>Salman Khan, Disha Patani, Randeep Hooda, Jack...</td>\n",
       "      <td>[taking, dreaded, gangster, gani, bhai,, acp, ...</td>\n",
       "    </tr>\n",
       "    <tr>\n",
       "      <th>...</th>\n",
       "      <td>...</td>\n",
       "      <td>...</td>\n",
       "      <td>...</td>\n",
       "      <td>...</td>\n",
       "      <td>...</td>\n",
       "      <td>...</td>\n",
       "      <td>...</td>\n",
       "      <td>...</td>\n",
       "      <td>...</td>\n",
       "      <td>...</td>\n",
       "    </tr>\n",
       "    <tr>\n",
       "      <th>2995</th>\n",
       "      <td>Waqt Ki Awaz</td>\n",
       "      <td>1988</td>\n",
       "      <td>Action, Crime, Drama</td>\n",
       "      <td>Wealthy Lata I. Prasad refuses to obey her wid...</td>\n",
       "      <td>6.3</td>\n",
       "      <td>105</td>\n",
       "      <td>33</td>\n",
       "      <td>K. Bapaiah</td>\n",
       "      <td>Vikas Anand, Asrani, Mithun Chakraborty, Moush...</td>\n",
       "      <td>[wealthy, lata, i., prasad, refuses, obey, wid...</td>\n",
       "    </tr>\n",
       "    <tr>\n",
       "      <th>2996</th>\n",
       "      <td>Ilzaam</td>\n",
       "      <td>1986</td>\n",
       "      <td>Drama, Family</td>\n",
       "      <td>Ajay is a street dancer and while people are w...</td>\n",
       "      <td>5.9</td>\n",
       "      <td>105</td>\n",
       "      <td>35</td>\n",
       "      <td>Shibu Mitra</td>\n",
       "      <td>Shashi Kapoor, Shatrughan Sinha, Raj Kiran, An...</td>\n",
       "      <td>[ajay, street, dancer, people, watching, dance...</td>\n",
       "    </tr>\n",
       "    <tr>\n",
       "      <th>2997</th>\n",
       "      <td>Jheel Ke Us Paar</td>\n",
       "      <td>1973</td>\n",
       "      <td>Drama, Romance</td>\n",
       "      <td>Kulwant Rai's horse carriage runs over a child...</td>\n",
       "      <td>7.2</td>\n",
       "      <td>105</td>\n",
       "      <td>48</td>\n",
       "      <td>Bhappi Sonie</td>\n",
       "      <td>Dharmendra, Mumtaz, Prem Chopra, Mehmood Jr.</td>\n",
       "      <td>[kulwant, rai's, horse, carriage, runs, child,...</td>\n",
       "    </tr>\n",
       "    <tr>\n",
       "      <th>2998</th>\n",
       "      <td>Ashad Ka Ek Din</td>\n",
       "      <td>1971</td>\n",
       "      <td>Biography, Drama</td>\n",
       "      <td>Aashad Ka Ek Din is an adaptation of the play ...</td>\n",
       "      <td>7.4</td>\n",
       "      <td>105</td>\n",
       "      <td>50</td>\n",
       "      <td>Mani Kaul</td>\n",
       "      <td>Aruna Irani, Arun Khopkar, Rekha Sabnis, Om Sh...</td>\n",
       "      <td>[aashad, ka, ek, din, adaptation, play, based,...</td>\n",
       "    </tr>\n",
       "    <tr>\n",
       "      <th>2999</th>\n",
       "      <td>Around the World</td>\n",
       "      <td>1967</td>\n",
       "      <td>Comedy, Romance</td>\n",
       "      <td>Raj Singh is the nephew and heir apparent of m...</td>\n",
       "      <td>6.2</td>\n",
       "      <td>105</td>\n",
       "      <td>54</td>\n",
       "      <td>Pachhi</td>\n",
       "      <td>Raj Kapoor, Rajshree, Ameeta, Mehmood</td>\n",
       "      <td>[raj, singh, nephew, heir, apparent, multi-mil...</td>\n",
       "    </tr>\n",
       "  </tbody>\n",
       "</table>\n",
       "<p>3000 rows × 10 columns</p>\n",
       "</div>"
      ],
      "text/plain": [
       "                 Title  Date_of_Release                                Genre  \\\n",
       "0             3 Idiots             2009            Comedy, Drama               \n",
       "1     Cruel Intentions             1999           Drama, Romance               \n",
       "2     Taare Zameen Par             2007            Drama, Family               \n",
       "3                   PK             2014   Comedy, Drama, Musical               \n",
       "4                Radhe             2021  Action, Crime, Thriller               \n",
       "...                ...              ...                                  ...   \n",
       "2995      Waqt Ki Awaz             1988     Action, Crime, Drama               \n",
       "2996            Ilzaam             1986            Drama, Family               \n",
       "2997  Jheel Ke Us Paar             1973           Drama, Romance               \n",
       "2998   Ashad Ka Ek Din             1971         Biography, Drama               \n",
       "2999  Around the World             1967          Comedy, Romance               \n",
       "\n",
       "                                           Plot_summary  ImDBRating    Votes  \\\n",
       "0     Two friends are searching for their long lost ...         8.4  366,038   \n",
       "1     Two vicious step-siblings of an elite Manhatta...         6.8  184,749   \n",
       "2     An eight-year-old boy is thought to be a lazy ...         8.4  179,838   \n",
       "3     An alien on Earth loses the only device he can...         8.1  171,776   \n",
       "4     After taking the dreaded gangster Gani Bhai, A...         1.8  171,349   \n",
       "...                                                 ...         ...      ...   \n",
       "2995  Wealthy Lata I. Prasad refuses to obey her wid...         6.3      105   \n",
       "2996  Ajay is a street dancer and while people are w...         5.9      105   \n",
       "2997  Kulwant Rai's horse carriage runs over a child...         7.2      105   \n",
       "2998  Aashad Ka Ek Din is an adaptation of the play ...         7.4      105   \n",
       "2999  Raj Singh is the nephew and heir apparent of m...         6.2      105   \n",
       "\n",
       "      Age_of_content                   Crew_dir  \\\n",
       "0                 12            Rajkumar Hirani   \n",
       "1                 22               Roger Kumble   \n",
       "2                 14  s:Aamir Khan, Amole Gupte   \n",
       "3                  7            Rajkumar Hirani   \n",
       "4                  0                Prabhu Deva   \n",
       "...              ...                        ...   \n",
       "2995              33                 K. Bapaiah   \n",
       "2996              35                Shibu Mitra   \n",
       "2997              48               Bhappi Sonie   \n",
       "2998              50                  Mani Kaul   \n",
       "2999              54                     Pachhi   \n",
       "\n",
       "                                             Cast_stars  \\\n",
       "0       Aamir Khan, Madhavan, Mona Singh, Sharman Joshi   \n",
       "1     Sarah Michelle Gellar, Ryan Phillippe, Reese W...   \n",
       "2     Darsheel Safary, Aamir Khan, Tisca Chopra, Vip...   \n",
       "3     Aamir Khan, Anushka Sharma, Sanjay Dutt, Boman...   \n",
       "4     Salman Khan, Disha Patani, Randeep Hooda, Jack...   \n",
       "...                                                 ...   \n",
       "2995  Vikas Anand, Asrani, Mithun Chakraborty, Moush...   \n",
       "2996  Shashi Kapoor, Shatrughan Sinha, Raj Kiran, An...   \n",
       "2997       Dharmendra, Mumtaz, Prem Chopra, Mehmood Jr.   \n",
       "2998  Aruna Irani, Arun Khopkar, Rekha Sabnis, Om Sh...   \n",
       "2999              Raj Kapoor, Rajshree, Ameeta, Mehmood   \n",
       "\n",
       "                                          Plot_Keywords  \n",
       "0     [two, friends, searching, long, lost, companio...  \n",
       "1     [two, vicious, step-siblings, elite, manhattan...  \n",
       "2     [eight-year-old, boy, thought, lazy, trouble-m...  \n",
       "3     [alien, earth, loses, device, use, communicate...  \n",
       "4     [taking, dreaded, gangster, gani, bhai,, acp, ...  \n",
       "...                                                 ...  \n",
       "2995  [wealthy, lata, i., prasad, refuses, obey, wid...  \n",
       "2996  [ajay, street, dancer, people, watching, dance...  \n",
       "2997  [kulwant, rai's, horse, carriage, runs, child,...  \n",
       "2998  [aashad, ka, ek, din, adaptation, play, based,...  \n",
       "2999  [raj, singh, nephew, heir, apparent, multi-mil...  \n",
       "\n",
       "[3000 rows x 10 columns]"
      ]
     },
     "execution_count": 43,
     "metadata": {},
     "output_type": "execute_result"
    }
   ],
   "source": [
    "movie_df1"
   ]
  },
  {
   "cell_type": "code",
   "execution_count": 44,
   "id": "bf1266ad",
   "metadata": {},
   "outputs": [],
   "source": [
    "movie_df1.to_csv(\"Imdb_3000_hindimovieslist.csv\",index=False)"
   ]
  },
  {
   "cell_type": "markdown",
   "id": "74cabd57",
   "metadata": {},
   "source": [
    "**Top 10 most acted actors**"
   ]
  },
  {
   "cell_type": "code",
   "execution_count": 172,
   "id": "cebb52f7",
   "metadata": {},
   "outputs": [],
   "source": [
    "actors = ''\n",
    "for i in range(3000):\n",
    "    actors = actors +','+  movie_df1['Cast_stars'][i]"
   ]
  },
  {
   "cell_type": "code",
   "execution_count": 173,
   "id": "8f4e2c6b",
   "metadata": {},
   "outputs": [],
   "source": [
    "actors_list = actors.split(\",\")"
   ]
  },
  {
   "cell_type": "code",
   "execution_count": 174,
   "id": "c80610ca",
   "metadata": {},
   "outputs": [],
   "source": [
    "actors_set = set(actors_list)"
   ]
  },
  {
   "cell_type": "code",
   "execution_count": 175,
   "id": "623479d1",
   "metadata": {},
   "outputs": [],
   "source": [
    "actors_unique_list = []\n",
    "for i in actors_list:\n",
    "    if i not in actors_unique_list:\n",
    "        actors_unique_list.append(i)"
   ]
  },
  {
   "cell_type": "code",
   "execution_count": 176,
   "id": "133a032c",
   "metadata": {},
   "outputs": [],
   "source": [
    "dicti = {}\n",
    "for i in range(0,len(actors_unique_list)):\n",
    "    dicti[actors_unique_list[i]] = actors.count(actors_unique_list[i])\n",
    "    "
   ]
  },
  {
   "cell_type": "code",
   "execution_count": 178,
   "id": "72ca3013",
   "metadata": {},
   "outputs": [],
   "source": [
    "actors_df = pd.DataFrame.from_dict(dicti,orient=\"index\")"
   ]
  },
  {
   "cell_type": "code",
   "execution_count": 186,
   "id": "5af58282",
   "metadata": {},
   "outputs": [],
   "source": [
    "actors_df.drop('',axis=0,inplace=True)"
   ]
  },
  {
   "cell_type": "code",
   "execution_count": 188,
   "id": "6b21b330",
   "metadata": {},
   "outputs": [],
   "source": [
    "actors_df.columns=[\"No_of_movies\"]"
   ]
  },
  {
   "cell_type": "code",
   "execution_count": 190,
   "id": "49ebce81",
   "metadata": {},
   "outputs": [],
   "source": [
    "top_10_df = actors_df.sort_values(\"No_of_movies\",ascending=False).head(10)"
   ]
  },
  {
   "cell_type": "code",
   "execution_count": 191,
   "id": "cceb7e94",
   "metadata": {},
   "outputs": [
    {
     "data": {
      "text/html": [
       "<div>\n",
       "<style scoped>\n",
       "    .dataframe tbody tr th:only-of-type {\n",
       "        vertical-align: middle;\n",
       "    }\n",
       "\n",
       "    .dataframe tbody tr th {\n",
       "        vertical-align: top;\n",
       "    }\n",
       "\n",
       "    .dataframe thead th {\n",
       "        text-align: right;\n",
       "    }\n",
       "</style>\n",
       "<table border=\"1\" class=\"dataframe\">\n",
       "  <thead>\n",
       "    <tr style=\"text-align: right;\">\n",
       "      <th></th>\n",
       "      <th>No_of_movies</th>\n",
       "    </tr>\n",
       "  </thead>\n",
       "  <tbody>\n",
       "    <tr>\n",
       "      <th>Amitabh Bachchan</th>\n",
       "      <td>145</td>\n",
       "    </tr>\n",
       "    <tr>\n",
       "      <th>Akshay Kumar</th>\n",
       "      <td>121</td>\n",
       "    </tr>\n",
       "    <tr>\n",
       "      <th>Sanjay Dutt</th>\n",
       "      <td>98</td>\n",
       "    </tr>\n",
       "    <tr>\n",
       "      <th>Ajay Devgn</th>\n",
       "      <td>97</td>\n",
       "    </tr>\n",
       "    <tr>\n",
       "      <th>Anupam Kher</th>\n",
       "      <td>96</td>\n",
       "    </tr>\n",
       "    <tr>\n",
       "      <th>Anupam Kher</th>\n",
       "      <td>81</td>\n",
       "    </tr>\n",
       "    <tr>\n",
       "      <th>Anil Kapoor</th>\n",
       "      <td>81</td>\n",
       "    </tr>\n",
       "    <tr>\n",
       "      <th>Salman Khan</th>\n",
       "      <td>79</td>\n",
       "    </tr>\n",
       "    <tr>\n",
       "      <th>Paresh Rawal</th>\n",
       "      <td>78</td>\n",
       "    </tr>\n",
       "    <tr>\n",
       "      <th>Govinda</th>\n",
       "      <td>77</td>\n",
       "    </tr>\n",
       "  </tbody>\n",
       "</table>\n",
       "</div>"
      ],
      "text/plain": [
       "                  No_of_movies\n",
       "Amitabh Bachchan           145\n",
       "Akshay Kumar               121\n",
       "Sanjay Dutt                 98\n",
       "Ajay Devgn                  97\n",
       "Anupam Kher                 96\n",
       " Anupam Kher                81\n",
       "Anil Kapoor                 81\n",
       "Salman Khan                 79\n",
       "Paresh Rawal                78\n",
       "Govinda                     77"
      ]
     },
     "execution_count": 191,
     "metadata": {},
     "output_type": "execute_result"
    }
   ],
   "source": [
    "top_10_df\n"
   ]
  },
  {
   "cell_type": "code",
   "execution_count": 199,
   "id": "f95555d7",
   "metadata": {},
   "outputs": [
    {
     "data": {
      "text/plain": [
       "<function matplotlib.pyplot.show(close=None, block=None)>"
      ]
     },
     "execution_count": 199,
     "metadata": {},
     "output_type": "execute_result"
    },
    {
     "data": {
      "text/plain": [
       "<Figure size 1296x648 with 0 Axes>"
      ]
     },
     "metadata": {},
     "output_type": "display_data"
    },
    {
     "data": {
      "image/png": "[encoded data removed]",
      "text/plain": [
       "<Figure size 1296x720 with 1 Axes>"
      ]
     },
     "metadata": {
      "needs_background": "light"
     },
     "output_type": "display_data"
    }
   ],
   "source": [
    "plt.figure(figsize=(18,9))\n",
    "top_10_df.plot(kind='bar',figsize=(18,10),title='Top 10 Artists with their no. of movies',xlabel =\"Actors\",ylabel=\"No.of Movies\")\n",
    "plt.show"
   ]
  },
  {
   "cell_type": "code",
   "execution_count": 203,
   "id": "4d092c22",
   "metadata": {},
   "outputs": [
    {
     "name": "stdout",
     "output_type": "stream",
     "text": [
      "\n",
      "Note: you may need to restart the kernel to use updated packages.\n"
     ]
    }
   ],
   "source": [
    "conda list -e > requirements.txt"
   ]
  },
  {
   "cell_type": "code",
   "execution_count": null,
   "id": "6632918a",
   "metadata": {},
   "outputs": [],
   "source": []
  }
 ],
 "metadata": {
  "kernelspec": {
   "display_name": "Python 3 (ipykernel)",
   "language": "python",
   "name": "python3"
  },
  "language_info": {
   "codemirror_mode": {
    "name": "ipython",
    "version": 3
   },
   "file_extension": ".py",
   "mimetype": "text/x-python",
   "name": "python",
   "nbconvert_exporter": "python",
   "pygments_lexer": "ipython3",
   "version": "3.7.11"
  }
 },
 "nbformat": 4,
 "nbformat_minor": 5
}
